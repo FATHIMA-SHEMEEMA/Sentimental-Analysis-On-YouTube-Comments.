{
 "cells": [
  {
   "cell_type": "markdown",
   "metadata": {},
   "source": [
    "# SENTIMENTAL ANALYSIS ON YOUTUBE COMMENTS"
   ]
  },
  {
   "cell_type": "markdown",
   "metadata": {},
   "source": [
    "# Install Libraries"
   ]
  },
  {
   "cell_type": "code",
   "execution_count": null,
   "metadata": {},
   "outputs": [],
   "source": [
    "!pip install selenium\n",
    "!pip install pandas\n",
    "!pip install time\n",
    "!pip install webdrivermanager\n",
    "!pip install vaderSentiment"
   ]
  },
  {
   "cell_type": "markdown",
   "metadata": {},
   "source": [
    "# Import libraries"
   ]
  },
  {
   "cell_type": "code",
   "execution_count": 1,
   "metadata": {},
   "outputs": [],
   "source": [
    "from selenium import webdriver\n",
    "from webdriver_manager.chrome import ChromeDriverManager\n",
    "import pandas as pd   \n",
    "import time\n",
    "from vaderSentiment.vaderSentiment import SentimentIntensityAnalyzer"
   ]
  },
  {
   "cell_type": "markdown",
   "metadata": {},
   "source": [
    "# Scrape the comments "
   ]
  },
  {
   "cell_type": "code",
   "execution_count": 2,
   "metadata": {},
   "outputs": [],
   "source": [
    "def scrapper():\n",
    "    driver = webdriver.Chrome(ChromeDriverManager().install())\n",
    "    driver.get('https://www.youtube.com/watch?v=ywPGtsKz-ZA')\n",
    "    driver.execute_script('window.scrollTo(1, 500);')\n",
    "    #now wait let load the comments\n",
    "    time.sleep(7)\n",
    "    #scroll window from x-cordinaate 0 to y-cordinate-3000\n",
    "    driver.execute_script('window.scrollTo(1, 3000);')\n",
    "    comment_div=driver.find_element_by_xpath('//*[@id=\"contents\"]')\n",
    "    #this is a list\n",
    "    comments=comment_div.find_elements_by_xpath('//*[@id=\"content-text\"]')\n",
    "    #create list of comments\n",
    "    comments_list = []\n",
    "    #create list to store score of comments\n",
    "    comment_score = []\n",
    "    print(\"Comments : \")\n",
    "    for comment in comments:\n",
    "        print(\"\\n\",comment.text)\n",
    "        comments_list.append(comment.text)\n",
    "         #calculate score of that comment\n",
    "        comment_score.append(analyze(comment.text))\n",
    "        #create a dictionary with all the values\n",
    "    data = {'Comment':comments_list,'Sentiment':comment_score}\n",
    "    df = pd.DataFrame(data, columns=['Comment','Sentiment'])\n",
    "     totalSentiment(df)"
   ]
  },
  {
   "cell_type": "markdown",
   "metadata": {},
   "source": [
    "# Analyzing the data"
   ]
  },
  {
   "cell_type": "code",
   "execution_count": 3,
   "metadata": {},
   "outputs": [],
   "source": [
    "def analyze(comment):\n",
    "\n",
    "    #analyzing the data\n",
    "    score = SentimentIntensityAnalyzer().polarity_scores(comment)\n",
    "    \n",
    "    if score['compound'] >= 0.05 :\n",
    "        sentiment = \"Positive\"\n",
    "    elif score['compound'] <= - 0.05 :\n",
    "        sentiment = \"Negative\"\n",
    "    else:\n",
    "        sentiment = \"Neutral\"\n",
    "    \n",
    "    return sentiment"
   ]
  },
  {
   "cell_type": "markdown",
   "metadata": {},
   "source": [
    "# calculate the percentage of sentiments"
   ]
  },
  {
   "cell_type": "code",
   "execution_count": 4,
   "metadata": {},
   "outputs": [
    {
     "name": "stderr",
     "output_type": "stream",
     "text": [
      "\n",
      "\n",
      "====== WebDriver manager ======\n",
      "Current google-chrome version is 101.0.4951\n",
      "Get LATEST chromedriver version for 101.0.4951 google-chrome\n",
      "Trying to download new driver from https://chromedriver.storage.googleapis.com/101.0.4951.41/chromedriver_win32.zip\n",
      "Driver has been saved in cache [C:\\Users\\FATHIMA SHEMEEMA\\.wdm\\drivers\\chromedriver\\win32\\101.0.4951.41]\n",
      "<ipython-input-2-700e06c30794>:7: DeprecationWarning: executable_path has been deprecated, please pass in a Service object\n",
      "  driver = webdriver.Chrome(ChromeDriverManager().install())\n",
      "<ipython-input-2-700e06c30794>:22: DeprecationWarning: find_element_by_* commands are deprecated. Please use find_element() instead\n",
      "  comment_div=driver.find_element_by_xpath('//*[@id=\"contents\"]')\n",
      "C:\\Users\\FATHIMA SHEMEEMA\\anaconda3\\lib\\site-packages\\selenium\\webdriver\\remote\\webelement.py:426: UserWarning: find_elements_by_* commands are deprecated. Please use find_elements() instead\n",
      "  warnings.warn(\"find_elements_by_* commands are deprecated. Please use find_elements() instead\")\n"
     ]
    },
    {
     "name": "stdout",
     "output_type": "stream",
     "text": [
      "Comments : \n",
      "\n",
      " I have mass respect for these Ukrainians for sticking to their turf no matter what hell brings many prayers for Ukraine you will rebuild and better just sad to see all the people have to flee.\n",
      "\n",
      " I almost feel like Russia doesn’t think anyone else has nukes.\n",
      "\n",
      " The Soviet Union had all these powerful nuclear weapons when they went up against the US and you never heard them talk repeatedly so much about their nukes and WW3, etc, even after they were defeated in Afghanistan. We all have heard Putin and Russia go on and on about their nukes, a modern European nation is essentially behaving like North Korea, which speaks volumes.\n",
      "\n",
      " If they're having trouble taking over one country, what do they think the outcome would be against the world.\n",
      "\n",
      " Resilience, bravery and unity of the people in Ukraine are second to none.\n",
      "\n",
      " Russia \"its not ww3 its a special global disagreement\"\n",
      "\n",
      " What to do when you invade an independent country and you can't win because the opposition is tougher than expected or maybe the other party is just smarter? Just threaten to blow up the earth and try to blame the other party for making you do so...\n",
      "\n",
      " Empty threats or not, Putin’s readiness to escalate things is a sign of weakness.\n",
      "\n",
      " If Russia is truly  concerned  about the possibility of  a  WW3 starting then the onus is on Russia to take positive steps to prevent it. And  not to just use  the threat as part of a military gambit: to keep Ukraine poorly armed.\n",
      "\n",
      " Bringing up the possibility of World War III is like an abusive man threatening to kill all women, simply because his wife had the audacity to defend herself!\n",
      "\n",
      " Love to the world.. from Ghana 🇬🇭 and peace to the world \n",
      "\n",
      " God, this is just sad, I hope it never escalates\n",
      "\n",
      " Russia is helping expand NATO with their war of aggression against Ukraine. They're proving the need for NATO every moment they continue this war.\n",
      "\n",
      " I'm really glad that at the end of this report, we also fiiinally got to see that the UK (which from the context I'm guessing these vehicles are heading from) is also sending revamped vehicles and restored military ambulances to Ukraine which they definitely need. In one of the eastern districts of Ukraine alone the local official stated that since the war kicked up on the 24th of February they had lost '50' of their 250 ambulances or were too out of action due to shrapnel and other effects of the war. So these being sent along with the other armoured vehicles will DEFINITELY go a long way in helping the civilians as well as the soldiers and other first responders. I hope that other surplus yards and hospitals across Europe and beyond will do the same. The more we can get to Ukraine to more people we can save and the sooner this war can end. Slava Ukraine\n",
      "\n",
      " I hope all of this ends soon...\n",
      "My sincerest condolences to all our brave heroes who gave their lives for us..\n",
      "\n",
      " Pfft! The bully warning the victim: “If you don’t stop defending yourself, others might join the fight and I might get my ass kicked!”\n",
      "\n",
      " Putin has lost already a man desperate will retaiate but still we must stand up for watt is right so much respect for the Ukrainian people never give up hope we need to love everyone hope peice and love\n",
      "\n",
      " Maybe they shouldn’t have started the conflict. They speak as though they didn’t attack Ukraine. All they have to do is go home and it will be over.\n",
      "\n",
      " Russia doesnt announce wars before they start them, so i highly doubt it\n",
      "\n",
      " Ukraine may be thousands of kilometres away from Malaysia but to Malaysians, it is much closer emotionally. A routine Malaysian Airline Flight 17 from Amsterdam to Kuala Lumpur was shot down there on July 17, 2014, killing all 298 on board. That scar is still raw. The World has forgotten about the killings of civilian flight MH17\n",
      "\n",
      "Positivity percentage :  50.0\n",
      "\n",
      "Negativity percentage:  45.0\n",
      "\n",
      "Neutrality percentage:  5.0\n"
     ]
    }
   ],
   "source": [
    "def totalSentiment(df):\n",
    "    #calculate the percentage of sentiments\n",
    "    sentiment_list = df.loc[:,'Sentiment']\n",
    "    count_Positive = 0\n",
    "    count_Neutral = 0\n",
    "    count_Negative = 0\n",
    "    count = 0\n",
    "    for sentiment in sentiment_list:\n",
    "        if(sentiment == 'Positive'):\n",
    "            count_Positive +=1\n",
    "        elif(sentiment == 'Negative'):\n",
    "            count_Negative +=1\n",
    "        else:\n",
    "            count_Neutral +=1\n",
    "        count+=1\n",
    "        \n",
    "    if(count != 0):\n",
    "        print(\"\\nPositivity percentage : \",(count_Positive/count)*100)\n",
    "        print(\"\\nNegativity percentage: \",(count_Negative/count)*100)\n",
    "        print(\"\\nNeutrality percentage: \", (count_Neutral/count)*100)\n",
    "    else:\n",
    "        print(\"Issue with scrapping. Please try again!\")\n",
    "scrapper()"
   ]
  },
  {
   "cell_type": "code",
   "execution_count": null,
   "metadata": {},
   "outputs": [],
   "source": []
  },
  {
   "cell_type": "code",
   "execution_count": null,
   "metadata": {},
   "outputs": [],
   "source": []
  }
 ],
 "metadata": {
  "kernelspec": {
   "display_name": "Python 3",
   "language": "python",
   "name": "python3"
  },
  "language_info": {
   "codemirror_mode": {
    "name": "ipython",
    "version": 3
   },
   "file_extension": ".py",
   "mimetype": "text/x-python",
   "name": "python",
   "nbconvert_exporter": "python",
   "pygments_lexer": "ipython3",
   "version": "3.8.5"
  }
 },
 "nbformat": 4,
 "nbformat_minor": 4
}
